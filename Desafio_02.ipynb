{
  "cells": [
    {
      "cell_type": "markdown",
      "metadata": {
        "id": "view-in-github",
        "colab_type": "text"
      },
      "source": [
        "<a href=\"https://colab.research.google.com/github/viniciusacosta/br-python-challenges/blob/master/Desafio_02.ipynb\" target=\"_parent\"><img src=\"https://colab.research.google.com/assets/colab-badge.svg\" alt=\"Open In Colab\"/></a>"
      ]
    },
    {
      "cell_type": "markdown",
      "metadata": {
        "id": "Om3L08xph4__"
      },
      "source": [
        "![](https://i.imgur.com/YX6UATs.png)"
      ]
    },
    {
      "cell_type": "markdown",
      "metadata": {
        "id": "q1NCks7Af6JN"
      },
      "source": [
        "### Desafio 2\n",
        "\n",
        "Escreva uma função que receba um número inteiro de horas e converta esse número para segundos.\n",
        "\n",
        "Exemplo:\n",
        "\n",
        "convert(5) ➞ 18000\n",
        "\n",
        "convert(3) ➞ 10800\n",
        "\n",
        "convert(2) ➞ 7200"
      ]
    },
    {
      "cell_type": "code",
      "execution_count": 5,
      "metadata": {
        "id": "sSm6F7sff6JO"
      },
      "outputs": [],
      "source": [
        "def convert_to_sec(number):\n",
        "    return number*3600"
      ]
    },
    {
      "cell_type": "code",
      "source": [
        "print(convert_to_sec(5))\n",
        "print(convert_to_sec(3))\n",
        "print(convert_to_sec(2))"
      ],
      "metadata": {
        "id": "Qz-Z8oAwiHXd",
        "outputId": "f0fd4a2e-bbe5-4727-d659-8f0ffd15fc24",
        "colab": {
          "base_uri": "https://localhost:8080/"
        }
      },
      "execution_count": 7,
      "outputs": [
        {
          "output_type": "stream",
          "name": "stdout",
          "text": [
            "18000\n",
            "10800\n",
            "7200\n"
          ]
        }
      ]
    }
  ],
  "metadata": {
    "anaconda-cloud": {},
    "colab": {
      "name": "Desafio 2.ipynb",
      "provenance": [],
      "include_colab_link": true
    },
    "kernelspec": {
      "display_name": "Python 3",
      "language": "python",
      "name": "python3"
    },
    "language_info": {
      "codemirror_mode": {
        "name": "ipython",
        "version": 3
      },
      "file_extension": ".py",
      "mimetype": "text/x-python",
      "name": "python",
      "nbconvert_exporter": "python",
      "pygments_lexer": "ipython3",
      "version": "3.7.9"
    }
  },
  "nbformat": 4,
  "nbformat_minor": 0
}