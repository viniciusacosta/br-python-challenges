{
  "cells": [
    {
      "cell_type": "markdown",
      "metadata": {
        "id": "view-in-github",
        "colab_type": "text"
      },
      "source": [
        "<a href=\"https://colab.research.google.com/github/viniciusacosta/br-python-challenges/blob/master/Desafio_12.ipynb\" target=\"_parent\"><img src=\"https://colab.research.google.com/assets/colab-badge.svg\" alt=\"Open In Colab\"/></a>"
      ]
    },
    {
      "cell_type": "markdown",
      "metadata": {
        "id": "AYHY2YXQf6J2"
      },
      "source": [
        "### Desafio 12\n",
        "\n",
        "Escreva uma função em Python para verificar a validade de uma senha.\n",
        "\n",
        "A senha deve ter:\n",
        "\n",
        "* Pelo menos 1 letra entre [a-z] e 1 letra entre [A-Z].\n",
        "* Pelo menos 1 número entre [0-9].\n",
        "* Pelo menos 1 caractere de [$ # @].\n",
        "* Comprimento mínimo de 6 caracteres.\n",
        "* Comprimento máximo de 16 caracteres.\n",
        "\n",
        "Entradas: \"12345678\", \"J3sus0\", \"#Te5t300\", \"J*90j12374\", \"Michheeul\", \"Monk3y6\"\n",
        "\n",
        "A saída deve ser a senha e um texto indicando se a senha é válida ou inválida:\n",
        "\n",
        "```\n",
        "\"1234\" - Senha inválida\n",
        "\"Qw#1234\" - Senha válida\n",
        "```"
      ]
    },
    {
      "cell_type": "code",
      "execution_count": 19,
      "metadata": {
        "id": "UGgtGYGGf6J3"
      },
      "outputs": [],
      "source": [
        "import re\n",
        "\n",
        "def validador_senha(senha):\n",
        "\n",
        "    validar = re.compile(r'^(?=.*[a-z])(?=.*[A-Z])(?=.*[0-9])(?=.*[$#@]).{6,16}$', flags=re.M)\n",
        "    resultado = re.findall(validar, senha)\n",
        "\n",
        "    if resultado:\n",
        "        print(f'\"{senha}\" - Senha válida')\n",
        "    else:\n",
        "        print(f'\"{senha}\" - Senha inválida')"
      ]
    },
    {
      "cell_type": "code",
      "source": [
        "lista = [\"12345678\", \"J3sus0\", \"#Te5t300\", \"J*90j12374\", \"Michheeul\", \"Monk3y6\"]\n",
        "for n in lista:\n",
        "  validador_senha(n)"
      ],
      "metadata": {
        "id": "ARdDTLDNJbbE",
        "outputId": "e1fbc332-09ec-420b-e3a3-6bb88c42f1a6",
        "colab": {
          "base_uri": "https://localhost:8080/"
        }
      },
      "execution_count": 20,
      "outputs": [
        {
          "output_type": "stream",
          "name": "stdout",
          "text": [
            "\"12345678\" - Senha inválida\n",
            "\"J3sus0\" - Senha inválida\n",
            "\"#Te5t300\" - Senha válida\n",
            "\"J*90j12374\" - Senha inválida\n",
            "\"Michheeul\" - Senha inválida\n",
            "\"Monk3y6\" - Senha inválida\n"
          ]
        }
      ]
    },
    {
      "cell_type": "code",
      "source": [
        ""
      ],
      "metadata": {
        "id": "uxygu9MEJ5qi"
      },
      "execution_count": null,
      "outputs": []
    }
  ],
  "metadata": {
    "anaconda-cloud": {},
    "colab": {
      "name": "Desafio 12.ipynb",
      "provenance": [],
      "include_colab_link": true
    },
    "kernelspec": {
      "display_name": "Python 3",
      "language": "python",
      "name": "python3"
    },
    "language_info": {
      "codemirror_mode": {
        "name": "ipython",
        "version": 3
      },
      "file_extension": ".py",
      "mimetype": "text/x-python",
      "name": "python",
      "nbconvert_exporter": "python",
      "pygments_lexer": "ipython3",
      "version": "3.7.9"
    }
  },
  "nbformat": 4,
  "nbformat_minor": 0
}